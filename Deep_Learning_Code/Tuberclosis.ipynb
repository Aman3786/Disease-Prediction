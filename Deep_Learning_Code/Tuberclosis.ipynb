{
  "nbformat": 4,
  "nbformat_minor": 0,
  "metadata": {
    "colab": {
      "name": "working-Tuberclosis.ipynb",
      "provenance": [],
      "collapsed_sections": []
    },
    "kernelspec": {
      "name": "python3",
      "display_name": "Python 3"
    },
    "accelerator": "GPU"
  },
  "cells": [
    {
      "cell_type": "code",
      "metadata": {
        "colab": {
          "base_uri": "https://localhost:8080/"
        },
        "id": "9l_IHYz4YIO9",
        "outputId": "992e7a78-921b-4c1e-b8de-1e5e9b062a01"
      },
      "source": [
        "from google.colab import drive\n",
        "drive.mount('/content/gdrive')"
      ],
      "execution_count": null,
      "outputs": [
        {
          "output_type": "stream",
          "text": [
            "Mounted at /content/gdrive\n"
          ],
          "name": "stdout"
        }
      ]
    },
    {
      "cell_type": "code",
      "metadata": {
        "id": "NHqG9PRsYWU4"
      },
      "source": [
        "import os\n",
        "import cv2\n",
        "import matplotlib.pyplot as plt\n",
        "\n",
        "dataset_path='/content/gdrive/MyDrive/TB-Dataset'\n",
        "# infected_path='/content/gdrive/MyDrive/TB-Dataset/Infected'\n",
        "IMAGE_SIZE =256\n",
        "\n",
        "training_data=[]\n",
        "# testing_data=[]\n",
        "\n",
        "def manage_data(directory,Type=None):\n",
        "  # Type=Type.lower()\n",
        "  count=0\n",
        "  CATEGORIES=['Normal','Infected']\n",
        "  for category in CATEGORIES:\n",
        "    label =CATEGORIES.index(category)\n",
        "    path = os.path.join(directory,category)\n",
        "    images=os.listdir(path)\n",
        "    \n",
        "    for img in images:\n",
        "      image =cv2.imread(os.path.join(path,img),cv2.IMREAD_GRAYSCALE)\n",
        "      image=cv2.resize(image,(IMAGE_SIZE,IMAGE_SIZE))\n",
        "      training_data.append([image,label])\n",
        "      count +=1\n",
        "      print(count,os.path.join(path,img),label)\n",
        "\n",
        "\n",
        "      # else:\n",
        "      #   testing_data.append([image,label])\n",
        "      #   count +=1\n",
        "      #   print(count)\n",
        "    \n",
        "\n",
        "\n",
        "manage_data(dataset_path)\n",
        "print(\"Training len\",len(training_data))\n",
        "# manage_data(testing_path,'test')\n",
        "# print(\"Testing len\",len(testing_data))\n",
        "\n",
        "\n",
        "\n"
      ],
      "execution_count": null,
      "outputs": []
    },
    {
      "cell_type": "code",
      "metadata": {
        "id": "IuX3SxHNaABl"
      },
      "source": [
        "import pickle\n",
        "pick = open('/content/gdrive/MyDrive/TB-Dataset/train_data.pickle','wb')\n",
        "pickle.dump(training_data,pick) \n",
        "pick.close()\n"
      ],
      "execution_count": null,
      "outputs": []
    },
    {
      "cell_type": "code",
      "metadata": {
        "id": "zIBfkwueoVfs"
      },
      "source": [
        "saved_data = open(\"/content/gdrive/MyDrive/TB-Dataset/train_data.pickle\",\"rb\")\n",
        "saved_data = pickle.load(saved_data)"
      ],
      "execution_count": null,
      "outputs": []
    },
    {
      "cell_type": "code",
      "metadata": {
        "id": "nPVQmWaVaL_X"
      },
      "source": [
        "import random\n",
        "\n",
        "random.shuffle(saved_data)"
      ],
      "execution_count": null,
      "outputs": []
    },
    {
      "cell_type": "code",
      "metadata": {
        "id": "xelLzjPJaRap"
      },
      "source": [
        "import numpy as np\n",
        "X_train=[]\n",
        "Y_train=[]\n",
        "\n",
        "for feature,label in saved_data:\n",
        "  X_train.append(feature)\n",
        "  Y_train.append(label)\n",
        "X_train=np.array(X_train).reshape(-1,IMAGE_SIZE,IMAGE_SIZE,1)\n",
        "X_train =X_train/255.0\n",
        "Y_train=np.array(Y_train)\n"
      ],
      "execution_count": null,
      "outputs": []
    },
    {
      "cell_type": "code",
      "metadata": {
        "colab": {
          "base_uri": "https://localhost:8080/"
        },
        "id": "I3tndpXlaVC8",
        "outputId": "86e57bd8-2e46-4c6c-dfd2-e067d583f592"
      },
      "source": [
        "Y_train[:10]"
      ],
      "execution_count": null,
      "outputs": [
        {
          "output_type": "execute_result",
          "data": {
            "text/plain": [
              "array([0, 0, 0, 0, 1, 0, 1, 0, 0, 1])"
            ]
          },
          "metadata": {
            "tags": []
          },
          "execution_count": 7
        }
      ]
    },
    {
      "cell_type": "code",
      "metadata": {
        "id": "VXvXbqWJaXtw"
      },
      "source": [
        "from tensorflow import keras\n",
        "\n",
        "checkpoint = keras.callbacks.ModelCheckpoint('Tuberclosis.h5',verbose=1,save_best_only=True)\n",
        "callbacks =[\n",
        "            keras.callbacks.EarlyStopping(patience=2,monitor='val_loss'),\n",
        "            checkpoint\n",
        "]\n"
      ],
      "execution_count": null,
      "outputs": []
    },
    {
      "cell_type": "code",
      "metadata": {
        "colab": {
          "base_uri": "https://localhost:8080/"
        },
        "id": "rm9GM9l1aaus",
        "outputId": "f0a62d4e-9ffb-4675-a797-53f2a2c3c46b"
      },
      "source": [
        "from tensorflow.keras.models import Sequential\n",
        "from tensorflow.keras.layers import Dense, Dropout, Activation, Flatten\n",
        "from tensorflow.keras.layers import Conv2D, MaxPooling2D\n",
        "import tensorflow as tf\n",
        "\n",
        "# model = Sequential()\n",
        "\n",
        "# model.add(Conv2D(64, (3, 3), input_shape=X_train.shape[1:]))\n",
        "# model.add(Activation('relu'))\n",
        "# model.add(MaxPooling2D(pool_size=(2, 2)))\n",
        "\n",
        "# model.add(Conv2D(32, (3, 3)))\n",
        "# model.add(Activation('relu'))\n",
        "# model.add(MaxPooling2D(pool_size=(2, 2)))\n",
        "\n",
        "# # model.add(Conv2D(256, (3, 3)))\n",
        "# # model.add(Activation('relu'))\n",
        "# # model.add(MaxPooling2D(pool_size=(2, 2)))\n",
        "\n",
        "# model.add(Flatten())  # this converts our 3D feature maps to 1D feature vectors\n",
        "\n",
        "# model.add(Dense(128))\n",
        "# model.add(Activation('relu'))\n",
        "\n",
        "# model.add(Dropout(.2))\n",
        "\n",
        "# model.add(Dense(64))\n",
        "# model.add(Activation('relu'))\n",
        "# model.add(Dropout(.2))\n",
        "\n",
        "\n",
        "# model.add(Dense(1))\n",
        "# model.add(Activation('sigmoid'))\n",
        "\n",
        "\n",
        "model = tf.keras.models.Sequential([\n",
        "tf.keras.layers.Conv2D(16, (3,3), activation='relu', input_shape=X_train.shape[1:]),\n",
        "tf.keras.layers.MaxPooling2D(2,2),\n",
        "tf.keras.layers.Conv2D(32, (3,3), activation='relu'),\n",
        "tf.keras.layers.MaxPooling2D(2,2),\n",
        "tf.keras.layers.Conv2D(64, (3,3), activation='relu'),\n",
        "tf.keras.layers.MaxPooling2D(2,2),\n",
        "tf.keras.layers.Flatten(),\n",
        "tf.keras.layers.Dense(1024, activation='relu'),\n",
        "tf.keras.layers.Dropout(.2) ,\n",
        "tf.keras.layers.Dense(512,activation='relu'),\n",
        "tf.keras.layers.Dense(1, activation='sigmoid')\n",
        "])\n",
        "\n",
        "\n",
        "model.compile(loss='binary_crossentropy',\n",
        "              optimizer='adam',\n",
        "              metrics=['accuracy'])\n",
        "\n",
        "model.fit(X_train, Y_train, batch_size=32, epochs=5, validation_split=0.2 , callbacks=callbacks)"
      ],
      "execution_count": null,
      "outputs": [
        {
          "output_type": "stream",
          "text": [
            "Epoch 1/5\n",
            "176/176 [==============================] - 24s 98ms/step - loss: 0.4805 - accuracy: 0.7985 - val_loss: 0.1969 - val_accuracy: 0.9230\n",
            "\n",
            "Epoch 00001: val_loss improved from inf to 0.19692, saving model to Tuberclosis.h5\n",
            "Epoch 2/5\n",
            "176/176 [==============================] - 16s 94ms/step - loss: 0.1455 - accuracy: 0.9436 - val_loss: 0.0997 - val_accuracy: 0.9722\n",
            "\n",
            "Epoch 00002: val_loss improved from 0.19692 to 0.09965, saving model to Tuberclosis.h5\n",
            "Epoch 3/5\n",
            "176/176 [==============================] - 16s 93ms/step - loss: 0.0626 - accuracy: 0.9770 - val_loss: 0.1022 - val_accuracy: 0.9658\n",
            "\n",
            "Epoch 00003: val_loss did not improve from 0.09965\n",
            "Epoch 4/5\n",
            "176/176 [==============================] - 16s 93ms/step - loss: 0.0400 - accuracy: 0.9876 - val_loss: 0.0574 - val_accuracy: 0.9793\n",
            "\n",
            "Epoch 00004: val_loss improved from 0.09965 to 0.05738, saving model to Tuberclosis.h5\n",
            "Epoch 5/5\n",
            "176/176 [==============================] - 16s 93ms/step - loss: 0.0343 - accuracy: 0.9880 - val_loss: 0.0701 - val_accuracy: 0.9800\n",
            "\n",
            "Epoch 00005: val_loss did not improve from 0.05738\n"
          ],
          "name": "stdout"
        },
        {
          "output_type": "execute_result",
          "data": {
            "text/plain": [
              "<tensorflow.python.keras.callbacks.History at 0x7f390049f1d0>"
            ]
          },
          "metadata": {
            "tags": []
          },
          "execution_count": 11
        }
      ]
    },
    {
      "cell_type": "code",
      "metadata": {
        "id": "F7ax9aUrab-d",
        "colab": {
          "base_uri": "https://localhost:8080/",
          "height": 239
        },
        "outputId": "a7dec412-19d1-4be6-c509-ecc79f8bbb11"
      },
      "source": [
        "import cv2\n",
        "CATEGORIES = [\"Normal\", \"Infected\"]  # will use this to convert prediction num to string value\n",
        "\n",
        "model = keras.models.load_model(\"/content/Tuberclosis.h5\")\n",
        "\n",
        "\n",
        "def prepare(filepath):\n",
        "    # IMG_SIZE = 70  # 50 in txt-based\n",
        "    img_array = cv2.imread(filepath, cv2.IMREAD_GRAYSCALE)  # read in the image, convert to grayscale\n",
        "    new_array = cv2.resize(img_array, (IMAGE_SIZE, IMAGE_SIZE))  # resize image to match model's expected sizing\n",
        "    return new_array.reshape(-1, IMAGE_SIZE, IMAGE_SIZE, 1)  # return the image with shaping that TF wants."
      ],
      "execution_count": null,
      "outputs": [
        {
          "output_type": "error",
          "ename": "NameError",
          "evalue": "ignored",
          "traceback": [
            "\u001b[0;31m---------------------------------------------------------------------------\u001b[0m",
            "\u001b[0;31mNameError\u001b[0m                                 Traceback (most recent call last)",
            "\u001b[0;32m<ipython-input-1-14df177dd832>\u001b[0m in \u001b[0;36m<module>\u001b[0;34m()\u001b[0m\n\u001b[1;32m      2\u001b[0m \u001b[0mCATEGORIES\u001b[0m \u001b[0;34m=\u001b[0m \u001b[0;34m[\u001b[0m\u001b[0;34m\"Normal\"\u001b[0m\u001b[0;34m,\u001b[0m \u001b[0;34m\"Infected\"\u001b[0m\u001b[0;34m]\u001b[0m  \u001b[0;31m# will use this to convert prediction num to string value\u001b[0m\u001b[0;34m\u001b[0m\u001b[0;34m\u001b[0m\u001b[0m\n\u001b[1;32m      3\u001b[0m \u001b[0;34m\u001b[0m\u001b[0m\n\u001b[0;32m----> 4\u001b[0;31m \u001b[0mmodel\u001b[0m \u001b[0;34m=\u001b[0m \u001b[0mkeras\u001b[0m\u001b[0;34m.\u001b[0m\u001b[0mmodels\u001b[0m\u001b[0;34m.\u001b[0m\u001b[0mload_model\u001b[0m\u001b[0;34m(\u001b[0m\u001b[0;34m\"/content/Tuberclosis.h5\"\u001b[0m\u001b[0;34m)\u001b[0m\u001b[0;34m\u001b[0m\u001b[0;34m\u001b[0m\u001b[0m\n\u001b[0m\u001b[1;32m      5\u001b[0m \u001b[0;34m\u001b[0m\u001b[0m\n\u001b[1;32m      6\u001b[0m \u001b[0;34m\u001b[0m\u001b[0m\n",
            "\u001b[0;31mNameError\u001b[0m: name 'keras' is not defined"
          ]
        }
      ]
    },
    {
      "cell_type": "code",
      "metadata": {
        "colab": {
          "base_uri": "https://localhost:8080/"
        },
        "id": "50Nz8oI0ah2G",
        "outputId": "258cbc0e-99d1-45a4-9ac6-5971f058f42e"
      },
      "source": [
        "test_path='/content/gdrive/MyDrive/TB-Dataset/testing-data'\n",
        "for i in os.listdir(test_path):\n",
        "  prediction = model.predict([prepare(os.path.join(test_path,i))])  # REMEMBER YOU'RE PASSING A LIST OF THINGS YOU WISH TO PREDICT\n",
        "  print(i,prediction[0][0],CATEGORIES[int(prediction[0][0])])\n"
      ],
      "execution_count": null,
      "outputs": [
        {
          "output_type": "stream",
          "text": [
            "normal-1.jpg 1.0 Infected\n",
            "normal-4.jpeg 1.0 Infected\n",
            "normal-3.jpg 1.0 Infected\n",
            "normal-2.jpg 1.0 Infected\n",
            "normal-6.jpeg 1.0 Infected\n",
            "normal-5.jpeg 1.0 Infected\n"
          ],
          "name": "stdout"
        }
      ]
    },
    {
      "cell_type": "code",
      "metadata": {
        "colab": {
          "base_uri": "https://localhost:8080/"
        },
        "id": "cHR6BaCAal9d",
        "outputId": "db390864-0ad6-494a-9280-baba7eba82b9"
      },
      "source": [
        "prediction"
      ],
      "execution_count": null,
      "outputs": [
        {
          "output_type": "execute_result",
          "data": {
            "text/plain": [
              "array([[1.]], dtype=float32)"
            ]
          },
          "metadata": {
            "tags": []
          },
          "execution_count": 32
        }
      ]
    },
    {
      "cell_type": "code",
      "metadata": {
        "colab": {
          "base_uri": "https://localhost:8080/"
        },
        "id": "IBZZkAbAano5",
        "outputId": "c26b8083-3960-4b30-ebf7-37c5c42c55f3"
      },
      "source": [
        "print(CATEGORIES[int(prediction[0][0])])"
      ],
      "execution_count": null,
      "outputs": [
        {
          "output_type": "stream",
          "text": [
            "Infected\n"
          ],
          "name": "stdout"
        }
      ]
    },
    {
      "cell_type": "code",
      "metadata": {
        "id": "meKJ6VYHq5BY"
      },
      "source": [
        "cp  /content/Tuberclosis.h5 /content/gdrive/MyDrive/TB-Dataset/"
      ],
      "execution_count": null,
      "outputs": []
    },
    {
      "cell_type": "code",
      "metadata": {
        "id": "c01tDu9WsNZb"
      },
      "source": [
        ""
      ],
      "execution_count": null,
      "outputs": []
    }
  ]
}