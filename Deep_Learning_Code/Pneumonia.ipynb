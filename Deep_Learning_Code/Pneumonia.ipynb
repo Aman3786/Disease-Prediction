{
  "nbformat": 4,
  "nbformat_minor": 0,
  "metadata": {
    "colab": {
      "name": "Pneumonia.ipynb",
      "provenance": [],
      "collapsed_sections": []
    },
    "kernelspec": {
      "name": "python3",
      "display_name": "Python 3"
    },
    "accelerator": "GPU"
  },
  "cells": [
    {
      "cell_type": "code",
      "metadata": {
        "colab": {
          "base_uri": "https://localhost:8080/"
        },
        "id": "vFoBFe8B0y7i",
        "outputId": "4746007a-cd99-44de-f4c0-d91c779ce58b"
      },
      "source": [
        "\n",
        "from google.colab import drive\n",
        "drive.mount('/content/gdrive')"
      ],
      "execution_count": null,
      "outputs": [
        {
          "output_type": "stream",
          "text": [
            "Mounted at /content/gdrive\n"
          ],
          "name": "stdout"
        }
      ]
    },
    {
      "cell_type": "code",
      "metadata": {
        "id": "wNVaSTNpzpQA"
      },
      "source": [
        "from keras.models import Model\n",
        "from keras.layers import Input, Dense, Flatten\n",
        "from keras.applications.vgg16 import VGG16\n",
        "from keras.preprocessing.image import ImageDataGenerator\n",
        "from keras.models import Sequential\n",
        "import numpy as np\n",
        "import matplotlib.pyplot as plt\n",
        "import tensorflow as tf\n"
      ],
      "execution_count": null,
      "outputs": []
    },
    {
      "cell_type": "code",
      "metadata": {
        "id": "Q-eYsRt61NOW"
      },
      "source": [
        "IMAGE_SIZE = [224, 224]\n",
        "train_path = '/content/gdrive/MyDrive/pneumonia/train'\n",
        "valid_path = '/content/gdrive/MyDrive/pneumonia/test'\n"
      ],
      "execution_count": null,
      "outputs": []
    },
    {
      "cell_type": "code",
      "metadata": {
        "colab": {
          "base_uri": "https://localhost:8080/"
        },
        "id": "c0YRtGRU1zJZ",
        "outputId": "84144cc5-c8f4-46a2-83fb-0da57145e564"
      },
      "source": [
        "vgg = VGG16(input_shape=IMAGE_SIZE + [3], weights='imagenet', include_top=False)"
      ],
      "execution_count": null,
      "outputs": [
        {
          "output_type": "stream",
          "text": [
            "Downloading data from https://storage.googleapis.com/tensorflow/keras-applications/vgg16/vgg16_weights_tf_dim_ordering_tf_kernels_notop.h5\n",
            "58892288/58889256 [==============================] - 0s 0us/step\n"
          ],
          "name": "stdout"
        }
      ]
    },
    {
      "cell_type": "code",
      "metadata": {
        "id": "5zkN_4MT14_b"
      },
      "source": [
        "for layer in vgg.layers:\n",
        "    layer.trainable = False"
      ],
      "execution_count": null,
      "outputs": []
    },
    {
      "cell_type": "code",
      "metadata": {
        "colab": {
          "base_uri": "https://localhost:8080/"
        },
        "id": "4PsmBj2u2A5a",
        "outputId": "d84d1324-e76e-408e-8ded-772708b4a786"
      },
      "source": [
        "x = Flatten()(vgg.output)\n",
        "prediction = Dense(1, activation='sigmoid')(x)\n",
        "\n",
        "# create a model object\n",
        "model = Model(inputs=vgg.input, outputs=prediction)\n",
        "\n",
        "model.summary()\n"
      ],
      "execution_count": null,
      "outputs": [
        {
          "output_type": "stream",
          "text": [
            "Model: \"model\"\n",
            "_________________________________________________________________\n",
            "Layer (type)                 Output Shape              Param #   \n",
            "=================================================================\n",
            "input_1 (InputLayer)         [(None, 224, 224, 3)]     0         \n",
            "_________________________________________________________________\n",
            "block1_conv1 (Conv2D)        (None, 224, 224, 64)      1792      \n",
            "_________________________________________________________________\n",
            "block1_conv2 (Conv2D)        (None, 224, 224, 64)      36928     \n",
            "_________________________________________________________________\n",
            "block1_pool (MaxPooling2D)   (None, 112, 112, 64)      0         \n",
            "_________________________________________________________________\n",
            "block2_conv1 (Conv2D)        (None, 112, 112, 128)     73856     \n",
            "_________________________________________________________________\n",
            "block2_conv2 (Conv2D)        (None, 112, 112, 128)     147584    \n",
            "_________________________________________________________________\n",
            "block2_pool (MaxPooling2D)   (None, 56, 56, 128)       0         \n",
            "_________________________________________________________________\n",
            "block3_conv1 (Conv2D)        (None, 56, 56, 256)       295168    \n",
            "_________________________________________________________________\n",
            "block3_conv2 (Conv2D)        (None, 56, 56, 256)       590080    \n",
            "_________________________________________________________________\n",
            "block3_conv3 (Conv2D)        (None, 56, 56, 256)       590080    \n",
            "_________________________________________________________________\n",
            "block3_pool (MaxPooling2D)   (None, 28, 28, 256)       0         \n",
            "_________________________________________________________________\n",
            "block4_conv1 (Conv2D)        (None, 28, 28, 512)       1180160   \n",
            "_________________________________________________________________\n",
            "block4_conv2 (Conv2D)        (None, 28, 28, 512)       2359808   \n",
            "_________________________________________________________________\n",
            "block4_conv3 (Conv2D)        (None, 28, 28, 512)       2359808   \n",
            "_________________________________________________________________\n",
            "block4_pool (MaxPooling2D)   (None, 14, 14, 512)       0         \n",
            "_________________________________________________________________\n",
            "block5_conv1 (Conv2D)        (None, 14, 14, 512)       2359808   \n",
            "_________________________________________________________________\n",
            "block5_conv2 (Conv2D)        (None, 14, 14, 512)       2359808   \n",
            "_________________________________________________________________\n",
            "block5_conv3 (Conv2D)        (None, 14, 14, 512)       2359808   \n",
            "_________________________________________________________________\n",
            "block5_pool (MaxPooling2D)   (None, 7, 7, 512)         0         \n",
            "_________________________________________________________________\n",
            "flatten (Flatten)            (None, 25088)             0         \n",
            "_________________________________________________________________\n",
            "dense (Dense)                (None, 1)                 25089     \n",
            "=================================================================\n",
            "Total params: 14,739,777\n",
            "Trainable params: 25,089\n",
            "Non-trainable params: 14,714,688\n",
            "_________________________________________________________________\n"
          ],
          "name": "stdout"
        }
      ]
    },
    {
      "cell_type": "code",
      "metadata": {
        "id": "_SafUHLL3NbX"
      },
      "source": [
        "model.compile(\n",
        "  loss='binary_crossentropy',\n",
        "  optimizer='adam',\n",
        "  metrics=['accuracy']\n",
        ")"
      ],
      "execution_count": null,
      "outputs": []
    },
    {
      "cell_type": "code",
      "metadata": {
        "id": "EZMHlmzc3gY6"
      },
      "source": [
        "\n",
        "train_datagen = ImageDataGenerator(rescale = 1./255,\n",
        "                                   shear_range = 0.2,\n",
        "                                   zoom_range = 0.2,\n",
        "                                   horizontal_flip = True)\n",
        "\n",
        "test_datagen = ImageDataGenerator(rescale = 1./255)"
      ],
      "execution_count": null,
      "outputs": []
    },
    {
      "cell_type": "code",
      "metadata": {
        "colab": {
          "base_uri": "https://localhost:8080/"
        },
        "id": "B-_8uUBF3ml4",
        "outputId": "9aed0596-0791-439a-afe1-4db9a1fe033b"
      },
      "source": [
        "training_set = train_datagen.flow_from_directory(train_path,\n",
        "                                                 target_size = (224, 224),\n",
        "                                                 batch_size = 32,\n",
        "                                                 class_mode = 'binary')\n"
      ],
      "execution_count": null,
      "outputs": [
        {
          "output_type": "stream",
          "text": [
            "Found 5216 images belonging to 2 classes.\n"
          ],
          "name": "stdout"
        }
      ]
    },
    {
      "cell_type": "code",
      "metadata": {
        "colab": {
          "base_uri": "https://localhost:8080/"
        },
        "id": "kB5e6z8g30SR",
        "outputId": "beb2a36b-1e79-4df6-df54-bda3374f4fab"
      },
      "source": [
        "test_set = test_datagen.flow_from_directory(valid_path,\n",
        "                                            target_size = (224, 224),\n",
        "                                            batch_size = 32,\n",
        "                                            class_mode = 'binary')"
      ],
      "execution_count": null,
      "outputs": [
        {
          "output_type": "stream",
          "text": [
            "Found 624 images belonging to 2 classes.\n"
          ],
          "name": "stdout"
        }
      ]
    },
    {
      "cell_type": "code",
      "metadata": {
        "id": "ymGnBTFg4-xF"
      },
      "source": [
        "\n",
        "checkpoint = tf.keras.callbacks.ModelCheckpoint('Pneumonia.h5',verbose=1,save_best_only=True)\n",
        "callbacks =[\n",
        "            tf.keras.callbacks.EarlyStopping(patience=1,monitor='val_loss'),\n",
        "            checkpoint\n",
        "]"
      ],
      "execution_count": null,
      "outputs": []
    },
    {
      "cell_type": "code",
      "metadata": {
        "colab": {
          "base_uri": "https://localhost:8080/"
        },
        "id": "RnJHiEZy4EVS",
        "outputId": "983360ff-ff14-44de-eb8f-45355b7daa36"
      },
      "source": [
        "history = model.fit(\n",
        "  training_set,\n",
        "  validation_data=test_set,\n",
        "  epochs=3,\n",
        "  steps_per_epoch=len(training_set),\n",
        "  validation_steps=len(test_set),\n",
        "  callbacks=callbacks\n",
        ")"
      ],
      "execution_count": null,
      "outputs": [
        {
          "output_type": "stream",
          "text": [
            "Epoch 1/3\n",
            "163/163 [==============================] - 1454s 9s/step - loss: 0.2279 - accuracy: 0.9102 - val_loss: 0.3656 - val_accuracy: 0.8670\n",
            "\n",
            "Epoch 00001: val_loss improved from inf to 0.36557, saving model to Pneumonia.h5\n",
            "Epoch 2/3\n",
            "163/163 [==============================] - 108s 659ms/step - loss: 0.1148 - accuracy: 0.9554 - val_loss: 0.3017 - val_accuracy: 0.9022\n",
            "\n",
            "Epoch 00002: val_loss improved from 0.36557 to 0.30171, saving model to Pneumonia.h5\n",
            "Epoch 3/3\n",
            "163/163 [==============================] - 108s 660ms/step - loss: 0.0901 - accuracy: 0.9672 - val_loss: 0.2463 - val_accuracy: 0.9263\n",
            "\n",
            "Epoch 00003: val_loss improved from 0.30171 to 0.24626, saving model to Pneumonia.h5\n"
          ],
          "name": "stdout"
        }
      ]
    },
    {
      "cell_type": "code",
      "metadata": {
        "id": "SIiPjiv64STa"
      },
      "source": [
        "import cv2\n",
        "# CATEGORIES = [\"Normal\", \"Infected\"]  # will use this to convert prediction num to string value\n",
        "from keras.preprocessing import image\n",
        "from keras.applications.vgg16 import preprocess_input\n",
        "model = tf.keras.models.load_model(\"/content/Pneumonia.h5\")\n",
        "\n",
        "\n",
        "# def prepare(filepath):\n",
        "#     # IMG_SIZE = 70  # 50 in txt-based\n",
        "#     img_array = cv2.imread(filepath)  # read in the image, convert to grayscale\n",
        "#     new_array = cv2.resize(img_array, (IMAGE_SIZE, IMAGE_SIZE))  # resize image to match model's expected sizing\n",
        "#     return new_array.reshape(-1, IMAGE_SIZE, IMAGE_SIZE, 1)  # return the image with shaping that TF wants."
      ],
      "execution_count": null,
      "outputs": []
    },
    {
      "cell_type": "code",
      "metadata": {
        "id": "-46rwnH1kD9g"
      },
      "source": [
        "img = image.load_img('/content/gdrive/MyDrive/pneumonia/val/PNEUMONIA/person1954_bacteria_4886.jpeg',target_size=(224,224))\n",
        "x=image.img_to_array(img)\n",
        "x=np.expand_dims(x,axis=0)\n",
        "img_data=preprocess_input(x)\n",
        "classes=model.predict(img_data)"
      ],
      "execution_count": null,
      "outputs": []
    },
    {
      "cell_type": "code",
      "metadata": {
        "colab": {
          "base_uri": "https://localhost:8080/"
        },
        "id": "-_ht7Z8YO5ef",
        "outputId": "a4c674c5-be80-4c55-dea9-39e08df12a79"
      },
      "source": [
        "# if classes[0][0] > classes[0][1]:\n",
        "#   print('Normal')\n",
        "# else:\n",
        "#   print('Infected')\n",
        "int(classes)"
      ],
      "execution_count": null,
      "outputs": [
        {
          "output_type": "execute_result",
          "data": {
            "text/plain": [
              "0"
            ]
          },
          "metadata": {
            "tags": []
          },
          "execution_count": 54
        }
      ]
    },
    {
      "cell_type": "code",
      "metadata": {
        "id": "ul0X9BOTPBpk"
      },
      "source": [
        "cp  /content/Pneumonia.h5  /content/gdrive/MyDrive/pneumonia "
      ],
      "execution_count": null,
      "outputs": []
    },
    {
      "cell_type": "code",
      "metadata": {
        "id": "KCqXE2_6T5pz"
      },
      "source": [
        "import cv2\n",
        "# CATEGORIES = [\"Normal\", \"Infected\"]  # will use this to convert prediction num to string value\n",
        "\n",
        "model = tf.keras.models.load_model(\"/content/Pneumonia.h5\")\n",
        "\n",
        "\n",
        "def prepare(filepath):\n",
        "    # IMG_SIZE = 70  # 50 in txt-based\n",
        "    img_array = cv2.imread(filepath, cv2.IMREAD_GRAYSCALE)  # read in the image, convert to grayscale\n",
        "    new_array = cv2.resize(img_array, (224, 224))  # resize image to match model's expected sizing\n",
        "    return new_array.reshape(-1, IMAGE_SIZE, IMAGE_SIZE, 1)  # return the image with shaping that TF wants."
      ],
      "execution_count": null,
      "outputs": []
    },
    {
      "cell_type": "code",
      "metadata": {
        "colab": {
          "base_uri": "https://localhost:8080/"
        },
        "id": "2J0LCfzEZX5g",
        "outputId": "5fcbf376-4f04-4717-ff03-2f2223429c66"
      },
      "source": [
        "# prediction = model.predict([prepare('/content/gdrive/MyDrive/pneumonia/val/PNEUMONIA/person1950_bacteria_4881.jpeg')])\n",
        "import tensorflow as tf\n",
        "import keras\n",
        "print(tf.__version__)\n",
        "print(keras.__version__)"
      ],
      "execution_count": null,
      "outputs": [
        {
          "output_type": "stream",
          "text": [
            "2.4.1\n",
            "2.4.3\n"
          ],
          "name": "stdout"
        }
      ]
    },
    {
      "cell_type": "code",
      "metadata": {
        "id": "r_gckPjtZtGW"
      },
      "source": [
        "cp  /content/Pneumonia.h5 /content/gdrive/MyDrive/pneumonia"
      ],
      "execution_count": null,
      "outputs": []
    },
    {
      "cell_type": "code",
      "metadata": {
        "id": "HBwX6tM9nM9J"
      },
      "source": [
        ""
      ],
      "execution_count": null,
      "outputs": []
    }
  ]
}